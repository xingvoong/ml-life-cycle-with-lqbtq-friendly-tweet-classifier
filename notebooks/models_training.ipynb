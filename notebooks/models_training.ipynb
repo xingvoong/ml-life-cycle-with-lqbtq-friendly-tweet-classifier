{
 "cells": [
  {
   "cell_type": "code",
   "execution_count": 3,
   "id": "ec83b9d2-e390-48a5-b76b-9bb5288cd41e",
   "metadata": {},
   "outputs": [],
   "source": [
    "import pandas as pd\n",
    "import re\n",
    "from textblob import TextBlob\n",
    "#TF-IDF Features-F1\n",
    "# https://scikit-learn.org/stable/modules/generated/sklearn.feature_extraction.text.TfidfVectorizer.html\n",
    "from sklearn.feature_extraction.text import TfidfVectorizer\n",
    "from sklearn.model_selection import train_test_split\n",
    "from sklearn.ensemble import RandomForestClassifier\n",
    "from sklearn.metrics import accuracy_score\n",
    "from sklearn.metrics import classification_report\n",
    "from sklearn.linear_model import LogisticRegression\n",
    "from sklearn.naive_bayes import GaussianNB\n",
    "from sklearn.svm import LinearSVC\n",
    "\n",
    "import numpy as np\n",
    "import seaborn as sns\n",
    "import matplotlib.pyplot as plt\n",
    "\n",
    "# import warnings filter\n",
    "from warnings import simplefilter\n",
    "# ignore all future warnings\n",
    "simplefilter(action='ignore', category=FutureWarning)\n",
    "\n",
    "# load the dataset\n",
    "df = pd.read_csv('../data/LGBT_Tweets_processed.csv')"
   ]
  },
  {
   "cell_type": "code",
   "execution_count": 4,
   "id": "cb070f85-0311-48e0-b645-fd463a04e956",
   "metadata": {},
   "outputs": [],
   "source": [
    "# all lowercase\n",
    "df.tweet = df.tweet.str.lower()\n",
    "\n",
    "#Remove twitter handlers\n",
    "df.tweet = df.tweet.apply(lambda x:re.sub('@[^\\s]+','',x))\n",
    "\n",
    "# remove url\n",
    "df.tweet = df.tweet.apply(lambda x:re.sub(r\"http\\S+\", \"\", x))\n",
    "\n",
    "# Substituting multiple spaces to single space\n",
    "df.tweet = df.tweet.apply(lambda x:re.sub(r'\\s+', ' ', x, flags=re.I))\n",
    "\n",
    "#remove hashtags\n",
    "df.tweet = df.tweet.apply(lambda x:re.sub(r'\\B#\\S+','',x))\n",
    "\n",
    "#remove all single characters\n",
    "df.tweet = df.tweet.apply(lambda x:re.sub(r'\\s+[a-zA-Z]\\s+', '', x))"
   ]
  },
  {
   "cell_type": "code",
   "execution_count": 5,
   "id": "52a0391d-5f39-4149-8de8-9adfe17023b2",
   "metadata": {},
   "outputs": [],
   "source": [
    "#Perform sentiment analysis using TextBlob on data\n",
    "df['sentiment'] = df['tweet'].apply(lambda x: TextBlob(x).sentiment.polarity)\n",
    "df['sentiment_label'] = df['sentiment'].apply(lambda x: 'positive' if x > 0 else ('negative' if x < 0 else 'Neutral'))"
   ]
  },
  {
   "cell_type": "code",
   "execution_count": 6,
   "id": "6f37d0cc-da8c-414a-a23d-bbc65ab4a5c9",
   "metadata": {},
   "outputs": [
    {
     "data": {
      "text/html": [
       "<div>\n",
       "<style scoped>\n",
       "    .dataframe tbody tr th:only-of-type {\n",
       "        vertical-align: middle;\n",
       "    }\n",
       "\n",
       "    .dataframe tbody tr th {\n",
       "        vertical-align: top;\n",
       "    }\n",
       "\n",
       "    .dataframe thead th {\n",
       "        text-align: right;\n",
       "    }\n",
       "</style>\n",
       "<table border=\"1\" class=\"dataframe\">\n",
       "  <thead>\n",
       "    <tr style=\"text-align: right;\">\n",
       "      <th></th>\n",
       "      <th>Unnamed: 0</th>\n",
       "      <th>date</th>\n",
       "      <th>time</th>\n",
       "      <th>id</th>\n",
       "      <th>tweet</th>\n",
       "      <th>language</th>\n",
       "      <th>replies_count</th>\n",
       "      <th>retweets_count</th>\n",
       "      <th>likes_count</th>\n",
       "      <th>sentiment</th>\n",
       "      <th>sentiment_label</th>\n",
       "    </tr>\n",
       "  </thead>\n",
       "  <tbody>\n",
       "    <tr>\n",
       "      <th>0</th>\n",
       "      <td>0</td>\n",
       "      <td>2022-08-26</td>\n",
       "      <td>10:31:10</td>\n",
       "      <td>1562991009180827649</td>\n",
       "      <td>praying for my lgbt nigerians 🙏🏽🙏🏽🙏🏽</td>\n",
       "      <td>en</td>\n",
       "      <td>0</td>\n",
       "      <td>0</td>\n",
       "      <td>0</td>\n",
       "      <td>0.000000</td>\n",
       "      <td>Neutral</td>\n",
       "    </tr>\n",
       "    <tr>\n",
       "      <th>1</th>\n",
       "      <td>1</td>\n",
       "      <td>2022-08-26</td>\n",
       "      <td>10:31:02</td>\n",
       "      <td>1562990976939229184</td>\n",
       "      <td>so pass agg omg you really are lgbt</td>\n",
       "      <td>en</td>\n",
       "      <td>0</td>\n",
       "      <td>0</td>\n",
       "      <td>0</td>\n",
       "      <td>0.200000</td>\n",
       "      <td>positive</td>\n",
       "    </tr>\n",
       "    <tr>\n",
       "      <th>2</th>\n",
       "      <td>3</td>\n",
       "      <td>2022-08-26</td>\n",
       "      <td>10:30:59</td>\n",
       "      <td>1562990965442326528</td>\n",
       "      <td>many working in the media, twitter and fb see...</td>\n",
       "      <td>en</td>\n",
       "      <td>0</td>\n",
       "      <td>0</td>\n",
       "      <td>0</td>\n",
       "      <td>0.235119</td>\n",
       "      <td>positive</td>\n",
       "    </tr>\n",
       "    <tr>\n",
       "      <th>3</th>\n",
       "      <td>7</td>\n",
       "      <td>2022-08-26</td>\n",
       "      <td>10:30:34</td>\n",
       "      <td>1562990860928659457</td>\n",
       "      <td>to be clear it doesn't justify what the lgbt c...</td>\n",
       "      <td>en</td>\n",
       "      <td>0</td>\n",
       "      <td>0</td>\n",
       "      <td>0</td>\n",
       "      <td>0.050000</td>\n",
       "      <td>positive</td>\n",
       "    </tr>\n",
       "    <tr>\n",
       "      <th>4</th>\n",
       "      <td>10</td>\n",
       "      <td>2022-08-26</td>\n",
       "      <td>10:30:24</td>\n",
       "      <td>1562990819485032449</td>\n",
       "      <td>good night lgbt community</td>\n",
       "      <td>en</td>\n",
       "      <td>1</td>\n",
       "      <td>0</td>\n",
       "      <td>2</td>\n",
       "      <td>0.700000</td>\n",
       "      <td>positive</td>\n",
       "    </tr>\n",
       "  </tbody>\n",
       "</table>\n",
       "</div>"
      ],
      "text/plain": [
       "   Unnamed: 0        date      time                   id  \\\n",
       "0           0  2022-08-26  10:31:10  1562991009180827649   \n",
       "1           1  2022-08-26  10:31:02  1562990976939229184   \n",
       "2           3  2022-08-26  10:30:59  1562990965442326528   \n",
       "3           7  2022-08-26  10:30:34  1562990860928659457   \n",
       "4          10  2022-08-26  10:30:24  1562990819485032449   \n",
       "\n",
       "                                               tweet language  replies_count  \\\n",
       "0               praying for my lgbt nigerians 🙏🏽🙏🏽🙏🏽       en              0   \n",
       "1                so pass agg omg you really are lgbt       en              0   \n",
       "2   many working in the media, twitter and fb see...       en              0   \n",
       "3  to be clear it doesn't justify what the lgbt c...       en              0   \n",
       "4                         good night lgbt community        en              1   \n",
       "\n",
       "   retweets_count  likes_count  sentiment sentiment_label  \n",
       "0               0            0   0.000000         Neutral  \n",
       "1               0            0   0.200000        positive  \n",
       "2               0            0   0.235119        positive  \n",
       "3               0            0   0.050000        positive  \n",
       "4               0            2   0.700000        positive  "
      ]
     },
     "execution_count": 6,
     "metadata": {},
     "output_type": "execute_result"
    }
   ],
   "source": [
    "df.head()"
   ]
  },
  {
   "cell_type": "markdown",
   "id": "7d4fc80f-7fd0-4927-ad7d-541e23f8557a",
   "metadata": {},
   "source": [
    "## Vectorizing with TF_IDF"
   ]
  },
  {
   "cell_type": "code",
   "execution_count": 7,
   "id": "a5ee88e8-ba69-4e4c-bc0b-154e24e3fa80",
   "metadata": {},
   "outputs": [],
   "source": [
    "tfidf_vectorizer = TfidfVectorizer(ngram_range=(1, 2),max_df=0.75, min_df=5, max_features=10000)\n",
    "\n",
    "# TF-IDF feature matrix\n",
    "tfidf = tfidf_vectorizer.fit_transform(df['tweet'])\n"
   ]
  },
  {
   "cell_type": "markdown",
   "id": "2f9bc35a-10b9-434a-bcbe-fde485eb41a0",
   "metadata": {},
   "source": [
    "# Running different model Using TFIDF"
   ]
  },
  {
   "cell_type": "markdown",
   "id": "a9c85a91-2ac7-4ccc-8894-199c8855806d",
   "metadata": {},
   "source": [
    "## Random Forest"
   ]
  },
  {
   "cell_type": "code",
   "execution_count": 8,
   "id": "20520a30-caef-4b4c-8189-804cd43d694f",
   "metadata": {},
   "outputs": [
    {
     "name": "stdout",
     "output_type": "stream",
     "text": [
      "              precision    recall  f1-score   support\n",
      "\n",
      "     Neutral       0.78      0.75      0.77      1875\n",
      "    negative       0.95      0.30      0.46      1550\n",
      "    positive       0.68      0.92      0.78      3067\n",
      "\n",
      "    accuracy                           0.73      6492\n",
      "   macro avg       0.80      0.66      0.67      6492\n",
      "weighted avg       0.77      0.73      0.70      6492\n",
      "\n",
      "Random Forest, Accuracy Score: 0.7256623536660505\n"
     ]
    }
   ],
   "source": [
    "X = tfidf\n",
    "y = df['sentiment_label']\n",
    "X_train_tfidf, X_test_tfidf, y_train, y_test = train_test_split(X, y, random_state=42, test_size=0.2)\n",
    "rf=RandomForestClassifier()\n",
    "rf.fit(X_train_tfidf,y_train)\n",
    "y_preds = rf.predict(X_test_tfidf)\n",
    "acc=accuracy_score(y_test,y_preds)\n",
    "report = classification_report( y_test, y_preds )\n",
    "print(report)\n",
    "print(\"Random Forest, Accuracy Score:\",acc)"
   ]
  },
  {
   "cell_type": "markdown",
   "id": "7ed8c2a5-a5d8-4b3b-bb58-6dcadf5ea2a5",
   "metadata": {},
   "source": [
    "## Logistic Regression"
   ]
  },
  {
   "cell_type": "code",
   "execution_count": 9,
   "id": "d7c159bc-7273-4b06-b283-e720787f88e0",
   "metadata": {},
   "outputs": [
    {
     "name": "stdout",
     "output_type": "stream",
     "text": [
      "              precision    recall  f1-score   support\n",
      "\n",
      "     Neutral       0.82      0.86      0.84      1875\n",
      "    negative       0.85      0.64      0.73      1550\n",
      "    positive       0.83      0.90      0.86      3067\n",
      "\n",
      "    accuracy                           0.83      6492\n",
      "   macro avg       0.83      0.80      0.81      6492\n",
      "weighted avg       0.83      0.83      0.82      6492\n",
      "\n",
      "Logistic Regression, Accuracy Score: 0.8279420825631546\n"
     ]
    }
   ],
   "source": [
    "X = tfidf\n",
    "y = df['sentiment_label']\n",
    "X_train_tfidf, X_test_tfidf, y_train, y_test = train_test_split(X, y, random_state=42, test_size=0.2)\n",
    "model = LogisticRegression(solver='lbfgs', max_iter=5000).fit(X_train_tfidf,y_train)\n",
    "y_preds = model.predict(X_test_tfidf)\n",
    "report = classification_report( y_test, y_preds )\n",
    "print(report)\n",
    "acc1=accuracy_score(y_test,y_preds)\n",
    "print(\"Logistic Regression, Accuracy Score:\" , acc1)"
   ]
  },
  {
   "cell_type": "markdown",
   "id": "40fd7be8-4f3c-410c-956b-f852653885fa",
   "metadata": {},
   "source": [
    "## Naive Bayes"
   ]
  },
  {
   "cell_type": "code",
   "execution_count": 10,
   "id": "f7c16552-c71a-4de0-a256-fc7fe4cdf7d4",
   "metadata": {},
   "outputs": [
    {
     "name": "stdout",
     "output_type": "stream",
     "text": [
      "              precision    recall  f1-score   support\n",
      "\n",
      "     Neutral       0.67      0.81      0.73      1875\n",
      "    negative       0.39      0.72      0.51      1550\n",
      "    positive       0.83      0.37      0.51      3067\n",
      "\n",
      "    accuracy                           0.58      6492\n",
      "   macro avg       0.63      0.63      0.58      6492\n",
      "weighted avg       0.68      0.58      0.58      6492\n",
      "\n",
      "Naive Bayes, Accuracy Score: 0.5817929759704251\n"
     ]
    }
   ],
   "source": [
    "X_train_tfidf, X_test_tfidf, y_train, y_test = train_test_split(X.toarray(), y, random_state=42, test_size=0.2)\n",
    "nb=GaussianNB()\n",
    "nb.fit(X_train_tfidf,y_train)\n",
    "y_preds = nb.predict(X_test_tfidf)\n",
    "acc2=accuracy_score(y_test,y_preds)\n",
    "report = classification_report( y_test, y_preds )\n",
    "print(report)\n",
    "print(\"Naive Bayes, Accuracy Score:\",acc2)"
   ]
  },
  {
   "cell_type": "markdown",
   "id": "1ddb7312-c479-49da-8b0b-506a8de41828",
   "metadata": {},
   "source": [
    "## Support Vector Machine"
   ]
  },
  {
   "cell_type": "code",
   "execution_count": 11,
   "id": "47e2042c-e894-465f-849e-3586bca53c30",
   "metadata": {},
   "outputs": [
    {
     "name": "stdout",
     "output_type": "stream",
     "text": [
      "              precision    recall  f1-score   support\n",
      "\n",
      "     Neutral       0.84      0.89      0.87      1875\n",
      "    negative       0.83      0.73      0.78      1550\n",
      "    positive       0.88      0.90      0.89      3067\n",
      "\n",
      "    accuracy                           0.86      6492\n",
      "   macro avg       0.85      0.84      0.84      6492\n",
      "weighted avg       0.86      0.86      0.85      6492\n",
      "\n",
      "SVM, Accuracy Score: 0.8561306223043746\n"
     ]
    }
   ],
   "source": [
    "support =LinearSVC(random_state=20)\n",
    "support.fit(X_train_tfidf,y_train)\n",
    "y_preds = support.predict(X_test_tfidf)\n",
    "acc3=accuracy_score(y_test,y_preds)\n",
    "report = classification_report( y_test, y_preds)\n",
    "print(report)\n",
    "print(\"SVM, Accuracy Score:\" , acc3)"
   ]
  },
  {
   "cell_type": "code",
   "execution_count": 12,
   "id": "28c3b3f0-e7fc-4e23-9c23-68e18f79d519",
   "metadata": {},
   "outputs": [
    {
     "data": {
      "image/png": "[encoded data removed]",
      "text/plain": [
       "<Figure size 500x500 with 1 Axes>"
      ]
     },
     "metadata": {},
     "output_type": "display_data"
    }
   ],
   "source": [
    "#Confusion Matrix\n",
    "from sklearn.metrics import confusion_matrix\n",
    "confusion_matrix = confusion_matrix(y_test,y_preds)\n",
    "matrix_proportions = np.zeros((3,3))\n",
    "for i in range(0,3):\n",
    "    matrix_proportions[i,:] = confusion_matrix[i,:]/float(confusion_matrix[i,:].sum())\n",
    "names=['positive','negative','neutral']\n",
    "confusion_df = pd.DataFrame(matrix_proportions, index=names,columns=names)\n",
    "plt.figure(figsize=(5,5))\n",
    "sns.heatmap(confusion_df,annot=True,annot_kws={\"size\": 12},cmap='YlGnBu',cbar=False, square=True,fmt='.2f')\n",
    "plt.ylabel(r'True Value',fontsize=14)\n",
    "plt.xlabel(r'Predicted Value',fontsize=14)\n",
    "plt.tick_params(labelsize=12)"
   ]
  },
  {
   "cell_type": "code",
   "execution_count": 13,
   "id": "9985902b-c1be-4e47-b729-c5a8c5c5afbe",
   "metadata": {},
   "outputs": [
    {
     "data": {
      "image/png": "[encoded data removed]",
      "text/plain": [
       "<Figure size 640x480 with 1 Axes>"
      ]
     },
     "metadata": {},
     "output_type": "display_data"
    }
   ],
   "source": [
    "objects = ('RandomForest','Logistic', 'Naive_bayes', 'SVM')\n",
    "y_pos = np.arange(len(objects))\n",
    "performance = [acc,acc1,acc2,acc3]\n",
    "plt.bar(y_pos, performance, align='center', alpha=0.5)\n",
    "plt.xticks(y_pos, objects)\n",
    "plt.ylabel('Accuracy')\n",
    "plt.title('Algorithm Comparision for F1')\n",
    "plt.show()"
   ]
  },
  {
   "cell_type": "markdown",
   "id": "a071f791-d67d-49cf-9af1-93769df40811",
   "metadata": {},
   "source": [
    "# <font color=blue>Summary</font>"
   ]
  },
  {
   "cell_type": "markdown",
   "id": "8f6977f1-d667-48e5-9d2c-d76d825b7e1b",
   "metadata": {},
   "source": [
    "- I use sentiment analysis labels as labels for machine learning models. I vectorize the tweets with TF_IDF vectorization. I then train the data with different machine learning models to choose the best result \n",
    "- SVM provides the best result out of 4 models\n",
    "- if a simple model works, embrace it. pick a model that can build and iterate quickly."
   ]
  },
  {
   "cell_type": "code",
   "execution_count": null,
   "id": "f0a76c76-21d0-4ecb-aa0f-f0fcb6c4c4cb",
   "metadata": {},
   "outputs": [],
   "source": []
  }
 ],
 "metadata": {
  "kernelspec": {
   "display_name": "Python 3 (ipykernel)",
   "language": "python",
   "name": "python3"
  },
  "language_info": {
   "codemirror_mode": {
    "name": "ipython",
    "version": 3
   },
   "file_extension": ".py",
   "mimetype": "text/x-python",
   "name": "python",
   "nbconvert_exporter": "python",
   "pygments_lexer": "ipython3",
   "version": "3.11.6"
  }
 },
 "nbformat": 4,
 "nbformat_minor": 5
}
