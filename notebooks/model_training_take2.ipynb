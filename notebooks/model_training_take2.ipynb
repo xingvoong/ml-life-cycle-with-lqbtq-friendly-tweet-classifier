{
 "cells": [
  {
   "cell_type": "code",
   "execution_count": 1,
   "id": "4da9f3a0-8fca-435e-9391-fa6235523a6f",
   "metadata": {},
   "outputs": [],
   "source": [
    "import pandas as pd\n",
    "import re\n",
    "from textblob import TextBlob\n",
    "#TF-IDF Features-F1\n",
    "# https://scikit-learn.org/stable/modules/generated/sklearn.feature_extraction.text.TfidfVectorizer.html\n",
    "from sklearn.feature_extraction.text import TfidfVectorizer\n",
    "from sklearn.model_selection import train_test_split\n",
    "from sklearn.ensemble import RandomForestClassifier\n",
    "from sklearn.metrics import accuracy_score\n",
    "from sklearn.metrics import classification_report\n",
    "from sklearn.linear_model import LogisticRegression\n",
    "from sklearn.naive_bayes import GaussianNB\n",
    "from sklearn.svm import LinearSVC\n",
    "\n",
    "import numpy as np\n",
    "import seaborn as sns\n",
    "import matplotlib.pyplot as plt\n",
    "\n",
    "# import warnings filter\n",
    "from warnings import simplefilter\n",
    "# ignore all future warnings\n",
    "simplefilter(action='ignore', category=FutureWarning)\n",
    "\n",
    "# load the dataset\n",
    "df = pd.read_csv('../data/LGBT_Tweets_processed.csv')"
   ]
  },
  {
   "cell_type": "code",
   "execution_count": 2,
   "id": "122a72f8-bee6-4d69-bcaf-02e137ae8994",
   "metadata": {},
   "outputs": [],
   "source": [
    "# all lowercase\n",
    "df.tweet = df.tweet.str.lower()\n",
    "\n",
    "#Remove twitter handlers\n",
    "df.tweet = df.tweet.apply(lambda x:re.sub('@[^\\s]+','',x))\n",
    "\n",
    "# remove url\n",
    "df.tweet = df.tweet.apply(lambda x:re.sub(r\"http\\S+\", \"\", x))\n",
    "\n",
    "# Substituting multiple spaces to single space\n",
    "df.tweet = df.tweet.apply(lambda x:re.sub(r'\\s+', ' ', x, flags=re.I))\n",
    "\n",
    "#remove hashtags\n",
    "df.tweet = df.tweet.apply(lambda x:re.sub(r'\\B#\\S+','',x))\n",
    "\n",
    "#remove all single characters\n",
    "df.tweet = df.tweet.apply(lambda x:re.sub(r'\\s+[a-zA-Z]\\s+', '', x))"
   ]
  },
  {
   "cell_type": "code",
   "execution_count": 3,
   "id": "b3ea3a91-36dc-4a35-bb25-eb7d5e7ba680",
   "metadata": {},
   "outputs": [],
   "source": [
    "#Perform sentiment analysis using TextBlob on data\n",
    "df['sentiment'] = df['tweet'].apply(lambda x: TextBlob(x).sentiment.polarity)\n",
    "df['sentiment_label'] = df['sentiment'].apply(lambda x: 'positive' if x > 0 else ('negative' if x < 0 else 'Neutral'))"
   ]
  },
  {
   "cell_type": "code",
   "execution_count": 4,
   "id": "ec0303b3-e3de-41cf-bbbf-2de4c047211f",
   "metadata": {},
   "outputs": [
    {
     "data": {
      "text/html": [
       "<div>\n",
       "<style scoped>\n",
       "    .dataframe tbody tr th:only-of-type {\n",
       "        vertical-align: middle;\n",
       "    }\n",
       "\n",
       "    .dataframe tbody tr th {\n",
       "        vertical-align: top;\n",
       "    }\n",
       "\n",
       "    .dataframe thead th {\n",
       "        text-align: right;\n",
       "    }\n",
       "</style>\n",
       "<table border=\"1\" class=\"dataframe\">\n",
       "  <thead>\n",
       "    <tr style=\"text-align: right;\">\n",
       "      <th></th>\n",
       "      <th>doc2vec_vector_0</th>\n",
       "      <th>doc2vec_vector_1</th>\n",
       "      <th>doc2vec_vector_2</th>\n",
       "      <th>doc2vec_vector_3</th>\n",
       "      <th>doc2vec_vector_4</th>\n",
       "    </tr>\n",
       "  </thead>\n",
       "  <tbody>\n",
       "    <tr>\n",
       "      <th>0</th>\n",
       "      <td>-0.110454</td>\n",
       "      <td>0.215753</td>\n",
       "      <td>0.162220</td>\n",
       "      <td>-0.174460</td>\n",
       "      <td>-0.013160</td>\n",
       "    </tr>\n",
       "    <tr>\n",
       "      <th>1</th>\n",
       "      <td>-0.004694</td>\n",
       "      <td>0.149461</td>\n",
       "      <td>-0.027395</td>\n",
       "      <td>-0.107862</td>\n",
       "      <td>0.242168</td>\n",
       "    </tr>\n",
       "    <tr>\n",
       "      <th>2</th>\n",
       "      <td>-0.323506</td>\n",
       "      <td>-0.075006</td>\n",
       "      <td>-0.159341</td>\n",
       "      <td>-0.606084</td>\n",
       "      <td>0.226632</td>\n",
       "    </tr>\n",
       "    <tr>\n",
       "      <th>3</th>\n",
       "      <td>-0.327943</td>\n",
       "      <td>-0.079433</td>\n",
       "      <td>-0.161475</td>\n",
       "      <td>-0.077290</td>\n",
       "      <td>0.408970</td>\n",
       "    </tr>\n",
       "    <tr>\n",
       "      <th>4</th>\n",
       "      <td>-0.096479</td>\n",
       "      <td>0.057709</td>\n",
       "      <td>0.182611</td>\n",
       "      <td>0.010903</td>\n",
       "      <td>-0.051120</td>\n",
       "    </tr>\n",
       "    <tr>\n",
       "      <th>...</th>\n",
       "      <td>...</td>\n",
       "      <td>...</td>\n",
       "      <td>...</td>\n",
       "      <td>...</td>\n",
       "      <td>...</td>\n",
       "    </tr>\n",
       "    <tr>\n",
       "      <th>32451</th>\n",
       "      <td>0.088128</td>\n",
       "      <td>0.111880</td>\n",
       "      <td>0.064776</td>\n",
       "      <td>-0.056514</td>\n",
       "      <td>-0.040436</td>\n",
       "    </tr>\n",
       "    <tr>\n",
       "      <th>32452</th>\n",
       "      <td>-0.018540</td>\n",
       "      <td>0.144621</td>\n",
       "      <td>0.017063</td>\n",
       "      <td>-0.069888</td>\n",
       "      <td>0.056860</td>\n",
       "    </tr>\n",
       "    <tr>\n",
       "      <th>32453</th>\n",
       "      <td>0.003267</td>\n",
       "      <td>0.440957</td>\n",
       "      <td>0.071016</td>\n",
       "      <td>-0.091587</td>\n",
       "      <td>0.113335</td>\n",
       "    </tr>\n",
       "    <tr>\n",
       "      <th>32454</th>\n",
       "      <td>0.014478</td>\n",
       "      <td>0.209769</td>\n",
       "      <td>-0.037478</td>\n",
       "      <td>-0.430747</td>\n",
       "      <td>0.222933</td>\n",
       "    </tr>\n",
       "    <tr>\n",
       "      <th>32455</th>\n",
       "      <td>-0.163571</td>\n",
       "      <td>1.024948</td>\n",
       "      <td>0.578444</td>\n",
       "      <td>-0.741755</td>\n",
       "      <td>-0.192264</td>\n",
       "    </tr>\n",
       "  </tbody>\n",
       "</table>\n",
       "<p>32456 rows × 5 columns</p>\n",
       "</div>"
      ],
      "text/plain": [
       "       doc2vec_vector_0  doc2vec_vector_1  doc2vec_vector_2  doc2vec_vector_3  \\\n",
       "0             -0.110454          0.215753          0.162220         -0.174460   \n",
       "1             -0.004694          0.149461         -0.027395         -0.107862   \n",
       "2             -0.323506         -0.075006         -0.159341         -0.606084   \n",
       "3             -0.327943         -0.079433         -0.161475         -0.077290   \n",
       "4             -0.096479          0.057709          0.182611          0.010903   \n",
       "...                 ...               ...               ...               ...   \n",
       "32451          0.088128          0.111880          0.064776         -0.056514   \n",
       "32452         -0.018540          0.144621          0.017063         -0.069888   \n",
       "32453          0.003267          0.440957          0.071016         -0.091587   \n",
       "32454          0.014478          0.209769         -0.037478         -0.430747   \n",
       "32455         -0.163571          1.024948          0.578444         -0.741755   \n",
       "\n",
       "       doc2vec_vector_4  \n",
       "0             -0.013160  \n",
       "1              0.242168  \n",
       "2              0.226632  \n",
       "3              0.408970  \n",
       "4             -0.051120  \n",
       "...                 ...  \n",
       "32451         -0.040436  \n",
       "32452          0.056860  \n",
       "32453          0.113335  \n",
       "32454          0.222933  \n",
       "32455         -0.192264  \n",
       "\n",
       "[32456 rows x 5 columns]"
      ]
     },
     "execution_count": 4,
     "metadata": {},
     "output_type": "execute_result"
    }
   ],
   "source": [
    "# create doc2vec vector columns\n",
    "# Initialize and train the model\n",
    "from gensim.test.utils import common_texts\n",
    "from gensim.models.doc2vec import Doc2Vec, TaggedDocument\n",
    "#The input for a Doc2Vec model should be a list of TaggedDocument(['list','of','word'], [TAG_001]). \n",
    "#A good practice is using the indexes of sentences as the tags.\n",
    "documents = [TaggedDocument(doc, [i]) for i, doc in enumerate(df[\"tweet\"].apply(lambda x: x.split(\" \")))]\n",
    "\n",
    "# train a Doc2Vec model with our text data\n",
    "# window- The maximum distance between the current and predicted word within a sentence.\n",
    "# mincount-Ignores all words with total frequency lower than this.\n",
    "# workers -Use these many worker threads to train the model\n",
    "#  Training Model - distributed bag of words (PV-DBOW) is employed.\n",
    "model = Doc2Vec(documents,vector_size=5, window=2, min_count=1, workers=4)\n",
    "\n",
    "#infer_vector - Infer a vector for given post-bulk training document.\n",
    "# Syntax- infer_vector(doc_words, alpha=None, min_alpha=None, epochs=None, steps=None)\n",
    "# doc_words-A document for which the vector representation will be inferred.\n",
    "\n",
    "# transform each document into a vector data\n",
    "doc2vec_df = df[\"tweet\"].apply(lambda x: model.infer_vector(x.split(\" \"))).apply(pd.Series)\n",
    "doc2vec_df.columns = [\"doc2vec_vector_\" + str(x) for x in doc2vec_df.columns]\n",
    "doc2vec_df"
   ]
  },
  {
   "cell_type": "code",
   "execution_count": 5,
   "id": "d672040a-d5f1-42a0-a547-8302757bf2c7",
   "metadata": {},
   "outputs": [],
   "source": [
    "tfidf_vectorizer = TfidfVectorizer(ngram_range=(1, 2),max_df=0.75, min_df=5, max_features=10000)\n",
    "\n",
    "# TF-IDF feature matrix\n",
    "tfidf = tfidf_vectorizer.fit_transform(df['tweet'])"
   ]
  },
  {
   "cell_type": "code",
   "execution_count": 6,
   "id": "31a88336-8814-4f08-875e-c24570e7dad2",
   "metadata": {},
   "outputs": [
    {
     "data": {
      "text/plain": [
       "(32456, 10005)"
      ]
     },
     "execution_count": 6,
     "metadata": {},
     "output_type": "execute_result"
    }
   ],
   "source": [
    "tfidf_a = tfidf.toarray()\n",
    "modelling_features = np.concatenate([tfidf_a,doc2vec_df],axis=1)\n",
    "modelling_features.shape"
   ]
  },
  {
   "cell_type": "code",
   "execution_count": 7,
   "id": "73755b91-4078-4461-9681-d3dba4551f06",
   "metadata": {},
   "outputs": [
    {
     "data": {
      "text/plain": [
       "array([[ 0.        ,  0.        ,  0.        , ...,  0.16221964,\n",
       "        -0.17446032, -0.01316025],\n",
       "       [ 0.        ,  0.        ,  0.        , ..., -0.02739499,\n",
       "        -0.1078617 ,  0.24216804],\n",
       "       [ 0.        ,  0.        ,  0.        , ..., -0.1593405 ,\n",
       "        -0.60608387,  0.22663231],\n",
       "       ...,\n",
       "       [ 0.        ,  0.        ,  0.        , ...,  0.0710164 ,\n",
       "        -0.09158742,  0.11333459],\n",
       "       [ 0.        ,  0.        ,  0.        , ..., -0.03747802,\n",
       "        -0.430747  ,  0.22293293],\n",
       "       [ 0.        ,  0.        ,  0.        , ...,  0.57844448,\n",
       "        -0.74175513, -0.19226356]])"
      ]
     },
     "execution_count": 7,
     "metadata": {},
     "output_type": "execute_result"
    }
   ],
   "source": [
    "modelling_features"
   ]
  },
  {
   "cell_type": "markdown",
   "id": "cd10006e-ac90-444a-91fe-b78c9edc27ae",
   "metadata": {},
   "source": [
    "# Train different models with TFIDF and doc2vec"
   ]
  },
  {
   "cell_type": "markdown",
   "id": "1e4f3f25-d12c-419f-9a24-4b400a02d341",
   "metadata": {},
   "source": [
    "## Random Forest"
   ]
  },
  {
   "cell_type": "code",
   "execution_count": 8,
   "id": "c8b609eb-198e-4398-ba88-5d9fcb029055",
   "metadata": {},
   "outputs": [
    {
     "name": "stdout",
     "output_type": "stream",
     "text": [
      "              precision    recall  f1-score   support\n",
      "\n",
      "     Neutral       0.78      0.73      0.76      1875\n",
      "    negative       0.94      0.27      0.42      1550\n",
      "    positive       0.66      0.92      0.77      3067\n",
      "\n",
      "    accuracy                           0.71      6492\n",
      "   macro avg       0.79      0.64      0.65      6492\n",
      "weighted avg       0.76      0.71      0.68      6492\n",
      "\n",
      "Random Forest, Accuracy Score: 0.7136475662353666\n"
     ]
    }
   ],
   "source": [
    "X = pd.DataFrame(modelling_features)\n",
    "y = df['sentiment_label']\n",
    "X_train_bow, X_test_bow, y_train, y_test = train_test_split(X, y, random_state=42, test_size=0.2)\n",
    "rf=RandomForestClassifier()\n",
    "rf.fit(X_train_bow,y_train)\n",
    "y_preds = rf.predict(X_test_bow)\n",
    "acc = accuracy_score(y_test,y_preds)\n",
    "report = classification_report( y_test, y_preds )\n",
    "print(report)\n",
    "print(\"Random Forest, Accuracy Score:\",acc)"
   ]
  },
  {
   "cell_type": "markdown",
   "id": "69e0fd14-1372-4897-b979-b94abedc01df",
   "metadata": {},
   "source": [
    "## Logistic Regression"
   ]
  },
  {
   "cell_type": "code",
   "execution_count": 9,
   "id": "3992a09c-997f-4582-a6e4-34249cf96c18",
   "metadata": {},
   "outputs": [
    {
     "name": "stdout",
     "output_type": "stream",
     "text": [
      "              precision    recall  f1-score   support\n",
      "\n",
      "     Neutral       0.82      0.86      0.84      1875\n",
      "    negative       0.84      0.64      0.73      1550\n",
      "    positive       0.83      0.91      0.86      3067\n",
      "\n",
      "    accuracy                           0.83      6492\n",
      "   macro avg       0.83      0.80      0.81      6492\n",
      "weighted avg       0.83      0.83      0.82      6492\n",
      "\n",
      "Logistic Regression, Accuracy Score: 0.827634011090573\n"
     ]
    }
   ],
   "source": [
    "X = pd.DataFrame(modelling_features)\n",
    "y = df['sentiment_label']\n",
    "X_train_bow, X_test_bow, y_train, y_test = train_test_split(X, y, random_state=42, test_size=0.2)\n",
    "\n",
    "model = LogisticRegression(solver='lbfgs', max_iter=5000).fit(X_train_bow,y_train)\n",
    "y_preds = model.predict(X_test_bow)\n",
    "report = classification_report( y_test, y_preds )\n",
    "print(report)\n",
    "acc1 = accuracy_score(y_test,y_preds)\n",
    "print(\"Logistic Regression, Accuracy Score:\" , acc1)"
   ]
  },
  {
   "cell_type": "markdown",
   "id": "133e102a-5b1e-4cbf-be69-bb10e7a9ffb7",
   "metadata": {},
   "source": [
    "## Naive Bayes"
   ]
  },
  {
   "cell_type": "code",
   "execution_count": 10,
   "id": "f360261a-1185-4821-b2ee-5055e1fecbd6",
   "metadata": {},
   "outputs": [
    {
     "name": "stdout",
     "output_type": "stream",
     "text": [
      "              precision    recall  f1-score   support\n",
      "\n",
      "     Neutral       0.69      0.79      0.74      1875\n",
      "    negative       0.40      0.72      0.51      1550\n",
      "    positive       0.82      0.42      0.55      3067\n",
      "\n",
      "    accuracy                           0.60      6492\n",
      "   macro avg       0.64      0.64      0.60      6492\n",
      "weighted avg       0.68      0.60      0.60      6492\n",
      "\n",
      "Naive Bayes, Accuracy Score: 0.5962723351817621\n"
     ]
    }
   ],
   "source": [
    "X = pd.DataFrame(modelling_features)\n",
    "y = df['sentiment_label']\n",
    "X_train, X_test, y_train, y_test = train_test_split(X, y, random_state=42, test_size=0.2)\n",
    "nb=GaussianNB()\n",
    "nb.fit(X_train,y_train)\n",
    "y_preds = nb.predict(X_test)\n",
    "acc2 = accuracy_score(y_test,y_preds)\n",
    "report = classification_report( y_test, y_preds )\n",
    "print(report)\n",
    "print(\"Naive Bayes, Accuracy Score:\",acc2)"
   ]
  },
  {
   "cell_type": "markdown",
   "id": "d9f6d358-2f9a-4299-a3ec-7884af75c4ba",
   "metadata": {},
   "source": [
    "## SVM"
   ]
  },
  {
   "cell_type": "code",
   "execution_count": 11,
   "id": "0feedd1f-d902-4504-bd69-d783c909b292",
   "metadata": {},
   "outputs": [
    {
     "name": "stdout",
     "output_type": "stream",
     "text": [
      "              precision    recall  f1-score   support\n",
      "\n",
      "     Neutral       0.84      0.89      0.87      1875\n",
      "    negative       0.83      0.73      0.78      1550\n",
      "    positive       0.88      0.90      0.89      3067\n",
      "\n",
      "    accuracy                           0.86      6492\n",
      "   macro avg       0.85      0.84      0.84      6492\n",
      "weighted avg       0.86      0.86      0.86      6492\n",
      "\n",
      "SVM, Accuracy Score: 0.8570548367221196\n"
     ]
    }
   ],
   "source": [
    "X = pd.DataFrame(modelling_features)\n",
    "y = df['sentiment_label']\n",
    "X_train_bow, X_test_bow, y_train, y_test = train_test_split(X, y, random_state=42, test_size=0.2)\n",
    "support =LinearSVC(random_state=20)\n",
    "support.fit(X_train_bow,y_train)\n",
    "y_preds = support.predict(X_test_bow)\n",
    "acc3 = accuracy_score(y_test,y_preds)\n",
    "report = classification_report( y_test, y_preds )\n",
    "print(report)\n",
    "print(\"SVM, Accuracy Score:\" , acc3)"
   ]
  },
  {
   "cell_type": "code",
   "execution_count": 12,
   "id": "29382614-6db3-470c-9ad2-7b4f11f871d7",
   "metadata": {},
   "outputs": [
    {
     "data": {
      "image/png": "[encoded data removed]",
      "text/plain": [
       "<Figure size 640x480 with 1 Axes>"
      ]
     },
     "metadata": {},
     "output_type": "display_data"
    }
   ],
   "source": [
    "objects = ('RandomForest','Logistic', 'Naive_bayes', 'SVM')\n",
    "y_pos = np.arange(len(objects))\n",
    "performance = [acc,acc1,acc2,acc3]\n",
    "plt.bar(y_pos, performance, align='center', alpha=0.5)\n",
    "plt.xticks(y_pos, objects)\n",
    "plt.ylabel('Accuracy')\n",
    "plt.title('Algorithm Comparision for F1')\n",
    "plt.show()"
   ]
  },
  {
   "cell_type": "markdown",
   "id": "821bde0c-e6a2-4d7e-870b-3c8111660fd1",
   "metadata": {},
   "source": [
    "## Comparing results from 2 processes of training"
   ]
  },
  {
   "cell_type": "code",
   "execution_count": 13,
   "id": "2def5a4d-4b72-4891-88f7-63eabf835f73",
   "metadata": {},
   "outputs": [],
   "source": [
    "tfidf_result = np.array([0.7301293900184843, 0.8279420825631546, 0.5817929759704251, 0.8561306223043746])\n",
    "tfidf_doc2vector_result = np.array([acc, acc1, acc2, acc3])\n",
    "\n",
    "columns=['random forest', 'logistic regression', 'naive bayes', 'svm']\n",
    "df_tfidf_result = pd.DataFrame(np.reshape(tfidf_result, (1,len(tfidf_result))),columns=columns)\n",
    "df_tfidf_doc2vector_result = pd.DataFrame(np.reshape(tfidf_doc2vector_result, (1,len(tfidf_doc2vector_result))),columns=columns)"
   ]
  },
  {
   "cell_type": "code",
   "execution_count": 14,
   "id": "55f9219b-fe51-44e9-929b-1cc541f6af66",
   "metadata": {},
   "outputs": [
    {
     "data": {
      "text/html": [
       "<div>\n",
       "<style scoped>\n",
       "    .dataframe tbody tr th:only-of-type {\n",
       "        vertical-align: middle;\n",
       "    }\n",
       "\n",
       "    .dataframe tbody tr th {\n",
       "        vertical-align: top;\n",
       "    }\n",
       "\n",
       "    .dataframe thead th {\n",
       "        text-align: right;\n",
       "    }\n",
       "</style>\n",
       "<table border=\"1\" class=\"dataframe\">\n",
       "  <thead>\n",
       "    <tr style=\"text-align: right;\">\n",
       "      <th></th>\n",
       "      <th>random forest</th>\n",
       "      <th>logistic regression</th>\n",
       "      <th>naive bayes</th>\n",
       "      <th>svm</th>\n",
       "    </tr>\n",
       "  </thead>\n",
       "  <tbody>\n",
       "    <tr>\n",
       "      <th>0</th>\n",
       "      <td>0.730129</td>\n",
       "      <td>0.827942</td>\n",
       "      <td>0.581793</td>\n",
       "      <td>0.856131</td>\n",
       "    </tr>\n",
       "  </tbody>\n",
       "</table>\n",
       "</div>"
      ],
      "text/plain": [
       "   random forest  logistic regression  naive bayes       svm\n",
       "0       0.730129             0.827942     0.581793  0.856131"
      ]
     },
     "execution_count": 14,
     "metadata": {},
     "output_type": "execute_result"
    }
   ],
   "source": [
    "df_tfidf_result"
   ]
  },
  {
   "cell_type": "code",
   "execution_count": 15,
   "id": "c2038efe-cb59-42aa-b5fa-8d82527cd412",
   "metadata": {},
   "outputs": [
    {
     "data": {
      "text/html": [
       "<div>\n",
       "<style scoped>\n",
       "    .dataframe tbody tr th:only-of-type {\n",
       "        vertical-align: middle;\n",
       "    }\n",
       "\n",
       "    .dataframe tbody tr th {\n",
       "        vertical-align: top;\n",
       "    }\n",
       "\n",
       "    .dataframe thead th {\n",
       "        text-align: right;\n",
       "    }\n",
       "</style>\n",
       "<table border=\"1\" class=\"dataframe\">\n",
       "  <thead>\n",
       "    <tr style=\"text-align: right;\">\n",
       "      <th></th>\n",
       "      <th>random forest</th>\n",
       "      <th>logistic regression</th>\n",
       "      <th>naive bayes</th>\n",
       "      <th>svm</th>\n",
       "    </tr>\n",
       "  </thead>\n",
       "  <tbody>\n",
       "    <tr>\n",
       "      <th>0</th>\n",
       "      <td>0.713648</td>\n",
       "      <td>0.827634</td>\n",
       "      <td>0.596272</td>\n",
       "      <td>0.857055</td>\n",
       "    </tr>\n",
       "  </tbody>\n",
       "</table>\n",
       "</div>"
      ],
      "text/plain": [
       "   random forest  logistic regression  naive bayes       svm\n",
       "0       0.713648             0.827634     0.596272  0.857055"
      ]
     },
     "execution_count": 15,
     "metadata": {},
     "output_type": "execute_result"
    }
   ],
   "source": [
    "df_tfidf_doc2vector_result"
   ]
  },
  {
   "cell_type": "code",
   "execution_count": 16,
   "id": "9763cee5-194b-496b-a1ea-669b31e238b8",
   "metadata": {},
   "outputs": [
    {
     "data": {
      "text/html": [
       "<div>\n",
       "<style scoped>\n",
       "    .dataframe tbody tr th:only-of-type {\n",
       "        vertical-align: middle;\n",
       "    }\n",
       "\n",
       "    .dataframe tbody tr th {\n",
       "        vertical-align: top;\n",
       "    }\n",
       "\n",
       "    .dataframe thead th {\n",
       "        text-align: right;\n",
       "    }\n",
       "</style>\n",
       "<table border=\"1\" class=\"dataframe\">\n",
       "  <thead>\n",
       "    <tr style=\"text-align: right;\">\n",
       "      <th></th>\n",
       "      <th>random forest</th>\n",
       "      <th>logistic regression</th>\n",
       "      <th>naive bayes</th>\n",
       "      <th>svm</th>\n",
       "    </tr>\n",
       "  </thead>\n",
       "  <tbody>\n",
       "    <tr>\n",
       "      <th>0</th>\n",
       "      <td>0.730129</td>\n",
       "      <td>0.827942</td>\n",
       "      <td>0.581793</td>\n",
       "      <td>0.856131</td>\n",
       "    </tr>\n",
       "    <tr>\n",
       "      <th>1</th>\n",
       "      <td>0.713648</td>\n",
       "      <td>0.827634</td>\n",
       "      <td>0.596272</td>\n",
       "      <td>0.857055</td>\n",
       "    </tr>\n",
       "  </tbody>\n",
       "</table>\n",
       "</div>"
      ],
      "text/plain": [
       "   random forest  logistic regression  naive bayes       svm\n",
       "0       0.730129             0.827942     0.581793  0.856131\n",
       "1       0.713648             0.827634     0.596272  0.857055"
      ]
     },
     "execution_count": 16,
     "metadata": {},
     "output_type": "execute_result"
    }
   ],
   "source": [
    "df_merged = pd.concat([df_tfidf_result, df_tfidf_doc2vector_result], ignore_index=True, sort=False)\n",
    "df_merged"
   ]
  },
  {
   "cell_type": "code",
   "execution_count": 21,
   "id": "91493be7-91ce-455d-9c55-0a30a4dbc26a",
   "metadata": {},
   "outputs": [
    {
     "data": {
      "text/html": [
       "<div>\n",
       "<style scoped>\n",
       "    .dataframe tbody tr th:only-of-type {\n",
       "        vertical-align: middle;\n",
       "    }\n",
       "\n",
       "    .dataframe tbody tr th {\n",
       "        vertical-align: top;\n",
       "    }\n",
       "\n",
       "    .dataframe thead th {\n",
       "        text-align: right;\n",
       "    }\n",
       "</style>\n",
       "<table border=\"1\" class=\"dataframe\">\n",
       "  <thead>\n",
       "    <tr style=\"text-align: right;\">\n",
       "      <th></th>\n",
       "      <th>tfidf_result</th>\n",
       "      <th>tfidf_doc2vector</th>\n",
       "    </tr>\n",
       "  </thead>\n",
       "  <tbody>\n",
       "    <tr>\n",
       "      <th>random forest</th>\n",
       "      <td>0.730129</td>\n",
       "      <td>0.713648</td>\n",
       "    </tr>\n",
       "    <tr>\n",
       "      <th>logistic regression</th>\n",
       "      <td>0.827942</td>\n",
       "      <td>0.827634</td>\n",
       "    </tr>\n",
       "    <tr>\n",
       "      <th>naive bayes</th>\n",
       "      <td>0.581793</td>\n",
       "      <td>0.596272</td>\n",
       "    </tr>\n",
       "    <tr>\n",
       "      <th>svm</th>\n",
       "      <td>0.856131</td>\n",
       "      <td>0.857055</td>\n",
       "    </tr>\n",
       "  </tbody>\n",
       "</table>\n",
       "</div>"
      ],
      "text/plain": [
       "                     tfidf_result  tfidf_doc2vector\n",
       "random forest            0.730129          0.713648\n",
       "logistic regression      0.827942          0.827634\n",
       "naive bayes              0.581793          0.596272\n",
       "svm                      0.856131          0.857055"
      ]
     },
     "execution_count": 21,
     "metadata": {},
     "output_type": "execute_result"
    }
   ],
   "source": [
    "df_merged = df_merged.T\n",
    "df_merged.rename(columns={0: 'tfidf_result', 1: 'tfidf_doc2vector'}, inplace=True)\n",
    "df_merged"
   ]
  },
  {
   "cell_type": "code",
   "execution_count": 22,
   "id": "33adeacb-ae44-403d-99ac-bcbc465bd3be",
   "metadata": {},
   "outputs": [
    {
     "data": {
      "image/png": "[encoded data removed]",
      "text/plain": [
       "<Figure size 640x480 with 1 Axes>"
      ]
     },
     "metadata": {},
     "output_type": "display_data"
    }
   ],
   "source": [
    "ax = df_merged.plot(y=[0, 1], kind=\"bar\", rot=0)"
   ]
  },
  {
   "cell_type": "markdown",
   "id": "437624f7-84c3-44a8-8752-2b18428ea68a",
   "metadata": {},
   "source": [
    "# Summary"
   ]
  },
  {
   "cell_type": "markdown",
   "id": "a37d9379-e049-427e-ba30-78800ba37873",
   "metadata": {},
   "source": [
    "- After adding doc2vec as an additional feature, the result of random forest decreased but the results of other models are slightly better. They also took so much longer to train.\n",
    "- SVM still provides the best result with the additional feature."
   ]
  },
  {
   "cell_type": "code",
   "execution_count": null,
   "id": "fc541cfe-2e65-498f-bff2-dba23d353095",
   "metadata": {},
   "outputs": [],
   "source": []
  }
 ],
 "metadata": {
  "kernelspec": {
   "display_name": "Python 3 (ipykernel)",
   "language": "python",
   "name": "python3"
  },
  "language_info": {
   "codemirror_mode": {
    "name": "ipython",
    "version": 3
   },
   "file_extension": ".py",
   "mimetype": "text/x-python",
   "name": "python",
   "nbconvert_exporter": "python",
   "pygments_lexer": "ipython3",
   "version": "3.11.6"
  }
 },
 "nbformat": 4,
 "nbformat_minor": 5
}
