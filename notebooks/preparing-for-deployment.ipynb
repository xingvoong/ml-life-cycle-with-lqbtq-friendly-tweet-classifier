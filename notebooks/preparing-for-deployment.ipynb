{
 "cells": [
  {
   "cell_type": "code",
   "execution_count": 1,
   "id": "53295fb2-7cad-45d7-87a3-b9d8090366e5",
   "metadata": {},
   "outputs": [],
   "source": [
    "import pandas as pd\n",
    "import re\n",
    "from textblob import TextBlob\n",
    "#TF-IDF Features-F1\n",
    "# https://scikit-learn.org/stable/modules/generated/sklearn.feature_extraction.text.TfidfVectorizer.html\n",
    "from sklearn.feature_extraction.text import TfidfVectorizer\n",
    "from sklearn.model_selection import train_test_split\n",
    "from sklearn.ensemble import RandomForestClassifier\n",
    "from sklearn.metrics import accuracy_score\n",
    "from sklearn.metrics import classification_report\n",
    "from sklearn.linear_model import LogisticRegression\n",
    "from sklearn.naive_bayes import GaussianNB\n",
    "from sklearn.svm import LinearSVC\n",
    "\n",
    "import numpy as np\n",
    "import seaborn as sns\n",
    "import matplotlib.pyplot as plt\n",
    "\n",
    "import pickle\n",
    "\n",
    "# import warnings filter\n",
    "from warnings import simplefilter\n",
    "# ignore all future warnings\n",
    "simplefilter(action='ignore', category=FutureWarning)\n",
    "\n",
    "# load the dataset\n",
    "df = pd.read_csv('../data/LGBT_Tweets_processed.csv')"
   ]
  },
  {
   "cell_type": "code",
   "execution_count": 2,
   "id": "646b76d4-e6f1-4845-bd8c-fb9405b3dc94",
   "metadata": {},
   "outputs": [],
   "source": [
    "# all lowercase\n",
    "df.tweet = df.tweet.str.lower()\n",
    "\n",
    "#Remove twitter handlers\n",
    "df.tweet = df.tweet.apply(lambda x:re.sub('@[^\\s]+','',x))\n",
    "\n",
    "# remove url\n",
    "df.tweet = df.tweet.apply(lambda x:re.sub(r\"http\\S+\", \"\", x))\n",
    "\n",
    "# Substituting multiple spaces to single space\n",
    "df.tweet = df.tweet.apply(lambda x:re.sub(r'\\s+', ' ', x, flags=re.I))\n",
    "\n",
    "#remove hashtags\n",
    "df.tweet = df.tweet.apply(lambda x:re.sub(r'\\B#\\S+','',x))\n",
    "\n",
    "#remove all single characters\n",
    "df.tweet = df.tweet.apply(lambda x:re.sub(r'\\s+[a-zA-Z]\\s+', '', x))"
   ]
  },
  {
   "cell_type": "code",
   "execution_count": 3,
   "id": "77f4b3e5-609d-46e0-9930-51f753ff1ae6",
   "metadata": {},
   "outputs": [],
   "source": [
    "#Perform sentiment analysis using TextBlob on data\n",
    "df['sentiment'] = df['tweet'].apply(lambda x: TextBlob(x).sentiment.polarity)\n",
    "df['sentiment_label'] = df['sentiment'].apply(lambda x: 'positive' if x > 0 else ('negative' if x < 0 else 'Neutral'))"
   ]
  },
  {
   "cell_type": "code",
   "execution_count": 4,
   "id": "d3b68908-df23-4280-b082-d88c80d6b5ca",
   "metadata": {},
   "outputs": [],
   "source": [
    "tfidf_vectorizer = TfidfVectorizer(ngram_range=(1, 2),max_df=1.0, min_df=0.0, max_features=5)\n",
    "\n",
    "# TF-IDF feature matrix\n",
    "tfidf = tfidf_vectorizer.fit_transform(df['tweet'])"
   ]
  },
  {
   "cell_type": "code",
   "execution_count": 5,
   "id": "f8d74a5e-10eb-4e56-8b4d-9d1ac7a85fa4",
   "metadata": {},
   "outputs": [
    {
     "name": "stdout",
     "output_type": "stream",
     "text": [
      "              precision    recall  f1-score   support\n",
      "\n",
      "     Neutral       0.54      0.39      0.45      1875\n",
      "    negative       0.00      0.00      0.00      1550\n",
      "    positive       0.51      0.86      0.64      3067\n",
      "\n",
      "    accuracy                           0.52      6492\n",
      "   macro avg       0.35      0.42      0.37      6492\n",
      "weighted avg       0.40      0.52      0.43      6492\n",
      "\n",
      "SVM, Accuracy Score: 0.5192544670363525\n"
     ]
    },
    {
     "name": "stderr",
     "output_type": "stream",
     "text": [
      "/usr/local/lib/python3.11/site-packages/sklearn/metrics/_classification.py:1471: UndefinedMetricWarning: Precision and F-score are ill-defined and being set to 0.0 in labels with no predicted samples. Use `zero_division` parameter to control this behavior.\n",
      "  _warn_prf(average, modifier, msg_start, len(result))\n",
      "/usr/local/lib/python3.11/site-packages/sklearn/metrics/_classification.py:1471: UndefinedMetricWarning: Precision and F-score are ill-defined and being set to 0.0 in labels with no predicted samples. Use `zero_division` parameter to control this behavior.\n",
      "  _warn_prf(average, modifier, msg_start, len(result))\n",
      "/usr/local/lib/python3.11/site-packages/sklearn/metrics/_classification.py:1471: UndefinedMetricWarning: Precision and F-score are ill-defined and being set to 0.0 in labels with no predicted samples. Use `zero_division` parameter to control this behavior.\n",
      "  _warn_prf(average, modifier, msg_start, len(result))\n"
     ]
    }
   ],
   "source": [
    "X = tfidf\n",
    "y = df['sentiment_label']\n",
    "X_train_tfidf, X_test_tfidf, y_train, y_test = train_test_split(X.toarray(), y, random_state=42, test_size=0.2)\n",
    "support =LinearSVC(random_state=20)\n",
    "support.fit(X_train_tfidf,y_train)\n",
    "y_preds = support.predict(X_test_tfidf)\n",
    "acc3=accuracy_score(y_test,y_preds)\n",
    "report = classification_report( y_test, y_preds)\n",
    "print(report)\n",
    "print(\"SVM, Accuracy Score:\" , acc3)"
   ]
  },
  {
   "cell_type": "markdown",
   "id": "94ac81f2-1e08-4569-b3ea-8a1c6daa8537",
   "metadata": {},
   "source": [
    "# Saving pretrained model and vectorizer as pkl files"
   ]
  },
  {
   "cell_type": "code",
   "execution_count": 6,
   "id": "182beb46-c51f-4c5d-acf5-a55dad75bb15",
   "metadata": {},
   "outputs": [
    {
     "name": "stdout",
     "output_type": "stream",
     "text": [
      "['Neutral' 'Neutral' 'positive' ... 'Neutral' 'positive' 'positive']\n"
     ]
    }
   ],
   "source": [
    "import pickle\n",
    "\n",
    "pickle.dump(support, open('../model/model.pkl', 'wb'))\n",
    "\n",
    "pickled_model = pickle.load(open('../model/model.pkl', 'rb'))\n",
    "\n",
    "print(pickled_model.predict(X))\n",
    "\n",
    "pickle.dump(tfidf_vectorizer, open('../model/tfidf_vectorizer.pkl', 'wb'))\n",
    "\n",
    "tfidf_vectorizer_pkl = pickle.load(open('../model/tfidf_vectorizer.pkl', 'rb'))"
   ]
  },
  {
   "cell_type": "code",
   "execution_count": 7,
   "id": "908b7b73-dbc1-4b7a-b63c-531ebd52b70b",
   "metadata": {},
   "outputs": [
    {
     "data": {
      "text/plain": [
       "array(['positive'], dtype=object)"
      ]
     },
     "execution_count": 7,
     "metadata": {},
     "output_type": "execute_result"
    }
   ],
   "source": [
    "# test on predicting 1 tweet\n",
    "\n",
    "test_tweet = 'this is a tweet, tell me whether it is positive or negative'\n",
    "tfidf_test = tfidf_vectorizer_pkl.fit_transform([test_tweet])\n",
    "pickled_model.predict(tfidf_test)"
   ]
  },
  {
   "cell_type": "code",
   "execution_count": 8,
   "id": "6067c9c1-9721-4f9f-b9e8-32dc1dbc0db3",
   "metadata": {},
   "outputs": [
    {
     "data": {
      "text/plain": [
       "array(['positive', 'Neutral', 'positive', 'positive', 'positive'],\n",
       "      dtype=object)"
      ]
     },
     "execution_count": 8,
     "metadata": {},
     "output_type": "execute_result"
    }
   ],
   "source": [
    "# test on predicting an array of tweet\n",
    "test_2 = \"it need to be 20 character long\"\n",
    "test_3 = \"this is very bad model\"\n",
    "test_4 = \"being gay is bad, how is this positive. Does it ever go negative?\"\n",
    "test_5 = \"should I even depploy this model???? negative, negative\"\n",
    "\n",
    "# list_of_tweet = [test_tweet, test_2, test_3, test_4, test_5]\n",
    "tfidf_list_of_tweet = tfidf_vectorizer.fit_transform([test_tweet, test_2, test_3, test_4, test_5])\n",
    "\n",
    "pickled_model.predict(tfidf_list_of_tweet)"
   ]
  },
  {
   "cell_type": "markdown",
   "id": "8c470310-7d86-474e-b723-188555612cad",
   "metadata": {},
   "source": [
    "# Summary"
   ]
  },
  {
   "cell_type": "markdown",
   "id": "fd8a4710-f565-4c93-8c52-437707525696",
   "metadata": {},
   "source": [
    "- For deployment, I chose the SVM model with tfidf_vectorizer since it gives the best result out of all the models.\n",
    "- I wanted to have a product that can take in a tweet and classify whether that tweet is positive, neutral, or negative. I did a couple of tests on the model to find out that it is not practical to have a tweet with 10000 features (a hyperparameter that I previously used for tfidf_vectorizer)\n",
    "- To deploy a model quickly so I can integrate it, I adjusted the parameters of tfidf_vectorizer from\n",
    "` tfidf_vectorizer = TfidfVectorizer(ngram_range=(1, 2),max_df=0.75, min_df=5, max_features=10000) `\n",
    "to \n",
    "` tfidf_vectorizer = TfidfVectorizer(ngram_range=(1, 2),max_df=1.0, min_df=0.0, max_features=5)`\n",
    "which significantly reduces 10000 features to 5 features. This also reduces the accuracy score from `0.8561306223043746` to `0.5192544670363525`\n",
    "- with only 5 features, a tweet needs to be longer (maybe longer than 10 characters for the model to make a prediction)\n",
    "\n",
    "- I also save the pre-trained model and vectorizer to improve the latency of the final product.\n",
    "- **Through this preparation for the deployment process, it is shown that:** <br>\n",
    "1: Sometimes it is important to let the data guide the product development process. it is also important to have an end product in mind <br>\n",
    "2: while a model may work great in a development environment, there are a lot of challenges raised to bring that greatness to the production environment. <br>"
   ]
  },
  {
   "cell_type": "code",
   "execution_count": null,
   "id": "b026c551-66b1-4e74-bac0-3bed09d8b0ee",
   "metadata": {},
   "outputs": [],
   "source": []
  }
 ],
 "metadata": {
  "kernelspec": {
   "display_name": "Python 3 (ipykernel)",
   "language": "python",
   "name": "python3"
  },
  "language_info": {
   "codemirror_mode": {
    "name": "ipython",
    "version": 3
   },
   "file_extension": ".py",
   "mimetype": "text/x-python",
   "name": "python",
   "nbconvert_exporter": "python",
   "pygments_lexer": "ipython3",
   "version": "3.11.6"
  }
 },
 "nbformat": 4,
 "nbformat_minor": 5
}
